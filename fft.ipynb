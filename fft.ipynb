{
 "cells": [
  {
   "cell_type": "code",
   "execution_count": 12,
   "metadata": {},
   "outputs": [],
   "source": [
    "import numpy as np\n",
    "import matplotlib.pyplot as plt\n",
    "from numpy import log10 as lg\n",
    "import numpy as np\n",
    "import matplotlib.pyplot as plt\n",
    "import math\n",
    "import matplotlib\n",
    "from scipy.fftpack import fft,ifft\n",
    "\n",
    "matplotlib.rcParams['xtick.labelsize'] = 30\n",
    "matplotlib.rcParams['ytick.labelsize'] = 30\n",
    "matplotlib.rcParams['xtick.direction'] = 'in'\n",
    "matplotlib.rcParams['ytick.direction'] = 'in'\n",
    "matplotlib.rcParams['xtick.major.size'] = 8\n",
    "matplotlib.rcParams['ytick.major.size'] = 8\n",
    "matplotlib.rcParams['xtick.minor.size'] = 4\n",
    "matplotlib.rcParams['ytick.minor.size'] = 4\n",
    "matplotlib.rcParams['xtick.top'] = True\n",
    "matplotlib.rcParams['ytick.right'] = True\n",
    "matplotlib.rcParams['axes.labelpad'] = 8.0\n",
    "matplotlib.rcParams['figure.constrained_layout.h_pad'] = 0\n",
    "plt.rcParams['text.usetex'] = True\n",
    "plt.rcParams['text.latex.preamble'] = [r'\\usepackage{bm}']\n",
    "plt.rc('text', usetex=True)\n",
    "plt.tick_params(axis='both', which='major', labelsize=18)\n",
    "plt.rcParams['font.sans-serif'] = ['Times New Roman']\n",
    "\n",
    "from matplotlib.ticker import (MultipleLocator, FormatStrFormatter,\n",
    "                               AutoMinorLocator)\n",
    "plt.close()"
   ]
  },
  {
   "cell_type": "code",
   "execution_count": 18,
   "metadata": {},
   "outputs": [
    {
     "name": "stdout",
     "output_type": "stream",
     "text": [
      "Using matplotlib backend: MacOSX\n"
     ]
    }
   ],
   "source": [
    "%matplotlib auto\n",
    "fig, (ax2, ax3) = plt.subplots(2, figsize=(14,14),sharex=True,sharey=True)\n",
    "matplotlib.rcParams['xtick.labelsize'] = 30\n",
    "matplotlib.rcParams['ytick.labelsize'] = 30\n",
    "plt.subplots_adjust(hspace=0.0)\n",
    "\n",
    "data2 = np.genfromtxt('data2/kipx.dat')\n",
    "\n",
    "t2=data2[:,0]\n",
    "hp2=data2[:,1]\n",
    "\n",
    "\n",
    "hp=np.nan_to_num(hp2)\n",
    "fft_hp = fft(hp)\n",
    "n2=len(t2)\n",
    "T=t2[-1]/(n2-1)\n",
    "xf2= np.linspace(0.0, 1.0/(2.0*T), n2//2)\n",
    "ps2 = 2.0/n2 * np.abs(fft_hp[0:n2//2])\n",
    "\n",
    "data3 = np.genfromtxt('data2/kipy.dat')\n",
    "t3=data3[:,0]\n",
    "hc3=data3[:,1]\n",
    "hp=np.nan_to_num(hc3)\n",
    "fft_hp = fft(hp)\n",
    "n2=len(t3)\n",
    "T=t3[-1]/(n2-1)\n",
    "xf3= np.linspace(0.0, 1.0/(2.0*T), n2//2)\n",
    "ps3 = 2.0/n2 * np.abs(fft_hp[0:n2//2])\n",
    "\n",
    "\n",
    "ax2.semilogx(2*np.pi*xf2, ps2, linewidth=1.5, color='tab:blue')\n",
    "# ax2.set_xlabel(r'$\\rm{f_{GW}\\,[{Hz}]}$',fontsize=25)\n",
    "ax2.set_ylabel(r'$\\mathcal{F}\\,(\\hat {\\bm{m}} \\cdot \\hat {\\bm{n}})$',fontsize=30)\n",
    "ax2.set_ylim(-0.01,0.45)\n",
    "# ax2.set_yticks([1e-29,1e-27,1e-25,1e-23])\n",
    "# ax2.grid()\n",
    "ax2.yaxis.set_minor_locator(MultipleLocator(0.1/5))\n",
    "ax2.axvline(x=1.438, color='r',linestyle='--')\n",
    "ax2.axvline(x=0.1, color='r',linestyle='--')\n",
    "\n",
    "ax3.semilogx(2*np.pi*xf3, ps3,linewidth=1.5)\n",
    "ax3.set_xlabel(r'$\\rm Angular\\ Frequency$\\,$[1/t_c]$',fontsize=30)\n",
    "ax3.set_ylabel(r'$\\mathcal{F}\\,(\\hat {\\bm{m}} \\cdot \\hat {\\bm{n}})$',fontsize=30)\n",
    "ax3.set_xlim(0.001*2*np.pi,10.4)\n",
    "ax3.set_ylim(-0.01,0.45)\n",
    "\n",
    "ax3.axvline(x=1.438, color='r',linestyle='--')\n",
    "ax3.axvline(x=0.1, color='r',linestyle='--')\n",
    "# ax3.set_yticks([1e-29,1e-27,1e-25,1e-23])\n",
    "# ax3.grid(alpha=0.5)\n",
    "plt.minorticks_on()\n",
    "\n",
    "#fig.text(0.04, 0.5, r'$\\rm Amplitude$', va='center', ha='center', rotation='vertical', fontsize=30)\n",
    "plt.savefig(\"mnfft.pdf\", format='pdf', bbox_inches=\"tight\")"
   ]
  },
  {
   "cell_type": "code",
   "execution_count": 17,
   "metadata": {},
   "outputs": [
    {
     "data": {
      "text/plain": [
       "(0.005026548245743669, 7.5398223686155035)"
      ]
     },
     "execution_count": 17,
     "metadata": {},
     "output_type": "execute_result"
    }
   ],
   "source": [
    "ax3.set_xlim(0.0008*2*np.pi,1.2*2*np.pi)"
   ]
  }
 ],
 "metadata": {
  "kernelspec": {
   "display_name": "Python 3",
   "language": "python",
   "name": "python3"
  },
  "language_info": {
   "codemirror_mode": {
    "name": "ipython",
    "version": 3
   },
   "file_extension": ".py",
   "mimetype": "text/x-python",
   "name": "python",
   "nbconvert_exporter": "python",
   "pygments_lexer": "ipython3",
   "version": "3.8.3"
  }
 },
 "nbformat": 4,
 "nbformat_minor": 4
}
